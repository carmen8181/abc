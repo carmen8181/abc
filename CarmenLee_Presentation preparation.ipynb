{
 "cells": [
  {
   "cell_type": "code",
   "execution_count": 71,
   "id": "4d46256c",
   "metadata": {},
   "outputs": [
    {
     "name": "stderr",
     "output_type": "stream",
     "text": [
      "C:\\Users\\user\\anaconda3\\lib\\site-packages\\IPython\\core\\interactiveshell.py:3444: DtypeWarning: Columns (0) have mixed types.Specify dtype option on import or set low_memory=False.\n",
      "  exec(code_obj, self.user_global_ns, self.user_ns)\n"
     ]
    }
   ],
   "source": [
    "#Business Question:\n",
    "#What is the quantum of price increase for every SKU in Year 2022 for revenue optimization and what is the value upside to business?\n",
    "#ie how sensitive is demand if business increases the price? Will this increase the sales?\n",
    "#ie how senstivie is demand if business reduces the price? How much sales will increase?\n",
    "#the above will be quantified using Price Elasticity model with Linear Regression to determine the max price for revenue optimization.\n",
    "\n",
    "#We would use following python libraries:\n",
    "#pandas\n",
    "#numpy\n",
    "#matplotlib\n",
    "#statsmodels\n",
    "#linearRegression\n",
    "#inventorize\n",
    "\n",
    "#We would solve the Business Questio using OSEMN framework:\n",
    "#Obtain = Dataset is collected from Kaggle, how dataset is determined is by ensuring there is historical price and quantity sold\n",
    "#data, the price need at least to have more than one price variations with the respective quantity sold in order to be able\n",
    "#to observe the sales demand reaction towards the product price changes.\n",
    "\n",
    "#Scrub = Clean data, ensuring price & quantity are in integer form, product description is in object form or conversion is needed.\n",
    "\n",
    "#Explore = find the pattern using statistical methods\n",
    "\n",
    "#Model = Construct models to predict and forecast\n",
    "\n",
    "#Interpret = Put the results into good use, ensure stakeholders understand in layman terms.\n",
    "\n",
    "#let's get started:\n",
    "\n",
    "#we need to load libraries:\n",
    "import numpy as np\n",
    "import pandas as pd\n",
    "from sklearn.linear_model import LinearRegression\n",
    "import inventorize as inv\n",
    "import seaborn as sns\n",
    "\n",
    "#Obtain (dataset is obtained from Kaggle)\n",
    "retail_clean=pd.read_csv(r'C:\\Users\\user\\Desktop\\Presentation\\retail_clean.csv')\n"
   ]
  },
  {
   "cell_type": "code",
   "execution_count": 72,
   "id": "d5efb438",
   "metadata": {},
   "outputs": [
    {
     "data": {
      "text/html": [
       "<div>\n",
       "<style scoped>\n",
       "    .dataframe tbody tr th:only-of-type {\n",
       "        vertical-align: middle;\n",
       "    }\n",
       "\n",
       "    .dataframe tbody tr th {\n",
       "        vertical-align: top;\n",
       "    }\n",
       "\n",
       "    .dataframe thead th {\n",
       "        text-align: right;\n",
       "    }\n",
       "</style>\n",
       "<table border=\"1\" class=\"dataframe\">\n",
       "  <thead>\n",
       "    <tr style=\"text-align: right;\">\n",
       "      <th></th>\n",
       "      <th>Invoice</th>\n",
       "      <th>StockCode</th>\n",
       "      <th>Description</th>\n",
       "      <th>Quantity</th>\n",
       "      <th>InvoiceDate</th>\n",
       "      <th>Price</th>\n",
       "      <th>Customer ID</th>\n",
       "      <th>Country</th>\n",
       "    </tr>\n",
       "  </thead>\n",
       "  <tbody>\n",
       "    <tr>\n",
       "      <th>923717</th>\n",
       "      <td>572921</td>\n",
       "      <td>23555</td>\n",
       "      <td>LANDMARK FRAME NOTTING HILL</td>\n",
       "      <td>1</td>\n",
       "      <td>2011-10-26T16:57:00Z</td>\n",
       "      <td>12.50</td>\n",
       "      <td>15993.0</td>\n",
       "      <td>United Kingdom</td>\n",
       "    </tr>\n",
       "    <tr>\n",
       "      <th>309645</th>\n",
       "      <td>520494</td>\n",
       "      <td>22328</td>\n",
       "      <td>ROUND SNACK BOXES SET OF 4 FRUITS</td>\n",
       "      <td>48</td>\n",
       "      <td>2010-08-26T12:09:00Z</td>\n",
       "      <td>2.55</td>\n",
       "      <td>12621.0</td>\n",
       "      <td>Germany</td>\n",
       "    </tr>\n",
       "    <tr>\n",
       "      <th>901699</th>\n",
       "      <td>571257</td>\n",
       "      <td>85176</td>\n",
       "      <td>SEWING SUSAN 21 NEEDLE SET</td>\n",
       "      <td>1</td>\n",
       "      <td>2011-10-14T17:17:00Z</td>\n",
       "      <td>1.63</td>\n",
       "      <td>NaN</td>\n",
       "      <td>United Kingdom</td>\n",
       "    </tr>\n",
       "  </tbody>\n",
       "</table>\n",
       "</div>"
      ],
      "text/plain": [
       "       Invoice StockCode                        Description  Quantity  \\\n",
       "923717  572921     23555        LANDMARK FRAME NOTTING HILL         1   \n",
       "309645  520494     22328  ROUND SNACK BOXES SET OF 4 FRUITS        48   \n",
       "901699  571257     85176         SEWING SUSAN 21 NEEDLE SET         1   \n",
       "\n",
       "                 InvoiceDate  Price  Customer ID         Country  \n",
       "923717  2011-10-26T16:57:00Z  12.50      15993.0  United Kingdom  \n",
       "309645  2010-08-26T12:09:00Z   2.55      12621.0         Germany  \n",
       "901699  2011-10-14T17:17:00Z   1.63          NaN  United Kingdom  "
      ]
     },
     "execution_count": 72,
     "metadata": {},
     "output_type": "execute_result"
    }
   ],
   "source": [
    "#Scrub\n",
    "#let's look at the data to ensure the file is loading correctly with 3 samples choosen\n",
    "retail_clean.sample(3)"
   ]
  },
  {
   "cell_type": "code",
   "execution_count": 73,
   "id": "47aade00",
   "metadata": {},
   "outputs": [
    {
     "name": "stdout",
     "output_type": "stream",
     "text": [
      "<class 'pandas.core.frame.DataFrame'>\n",
      "RangeIndex: 1042721 entries, 0 to 1042720\n",
      "Data columns (total 8 columns):\n",
      " #   Column       Non-Null Count    Dtype  \n",
      "---  ------       --------------    -----  \n",
      " 0   Invoice      1042721 non-null  object \n",
      " 1   StockCode    1042721 non-null  object \n",
      " 2   Description  1042721 non-null  object \n",
      " 3   Quantity     1042721 non-null  int64  \n",
      " 4   InvoiceDate  1042721 non-null  object \n",
      " 5   Price        1042721 non-null  float64\n",
      " 6   Customer ID  805618 non-null   float64\n",
      " 7   Country      1042721 non-null  object \n",
      "dtypes: float64(2), int64(1), object(5)\n",
      "memory usage: 63.6+ MB\n"
     ]
    }
   ],
   "source": [
    "#Scrub\n",
    "#to check the format of Decription, Quantity & Price\n",
    "retail_clean.info()"
   ]
  },
  {
   "cell_type": "code",
   "execution_count": 74,
   "id": "6d057193",
   "metadata": {},
   "outputs": [
    {
     "data": {
      "text/plain": [
       "array(['15CM CHRISTMAS GLASS BALL 20 LIGHTS', 'PINK CHERRY LIGHTS',\n",
       "       'WHITE CHERRY LIGHTS', ..., 'SET 10 CARDS SNOWY ROBIN 17099',\n",
       "       'SET 10 CARDS SWIRLY XMAS TREE 17104',\n",
       "       'CREAM HANGING HEART T-LIGHT HOLDER'], dtype=object)"
      ]
     },
     "execution_count": 74,
     "metadata": {},
     "output_type": "execute_result"
    }
   ],
   "source": [
    "#Scrub\n",
    "#to check how many SKUs under Description\n",
    "retail_clean['Description'].unique()"
   ]
  },
  {
   "cell_type": "code",
   "execution_count": 75,
   "id": "e4dadff2",
   "metadata": {},
   "outputs": [
    {
     "data": {
      "text/plain": [
       "5425"
      ]
     },
     "execution_count": 75,
     "metadata": {},
     "output_type": "execute_result"
    }
   ],
   "source": [
    "#Scrub\n",
    "#as the above consisted a long list of SKUs, do a quick count on the number of SKUs\n",
    "len(retail_clean['Description'].unique())"
   ]
  },
  {
   "cell_type": "code",
   "execution_count": 76,
   "id": "7cb7da7d",
   "metadata": {},
   "outputs": [
    {
     "name": "stdout",
     "output_type": "stream",
     "text": [
      "United Kingdom Percentage\n",
      "\n",
      "WHITE HANGING HEART T-LIGHT HOLDER    0.580913\n",
      "REGENCY CAKESTAND 3 TIER              0.372789\n",
      "JUMBO BAG RED RETROSPOT               0.330059\n",
      "ASSORTED COLOUR BIRD ORNAMENT         0.289623\n",
      "PARTY BUNTING                         0.270968\n",
      "Name: Description, dtype: float64\n",
      " United Kingdom Description values count\n",
      "\n",
      "WHITE HANGING HEART T-LIGHT HOLDER    5574\n",
      "REGENCY CAKESTAND 3 TIER              3577\n",
      "JUMBO BAG RED RETROSPOT               3167\n",
      "ASSORTED COLOUR BIRD ORNAMENT         2779\n",
      "PARTY BUNTING                         2600\n",
      "Name: Description, dtype: int64\n"
     ]
    }
   ],
   "source": [
    "#Choose one country platform \n",
    "retail_clean = retail_clean[retail_clean['Country']=='United Kingdom']\n",
    "\n",
    "#Check values (highest invoice count) in different SKUs under Description for price elasticity assessment\n",
    "description = retail_clean['Description'].value_counts()\n",
    "print(\"United Kingdom Percentage\\n{}\\n{}\\n United Kingdom Description values count\\n{}\\n{}\".format(\n",
    "      0*\"-\", (description / len(retail_clean.index))[:5] * 100, 0*\"-\", description[:5]))\n"
   ]
  },
  {
   "cell_type": "code",
   "execution_count": 77,
   "id": "56cd845d",
   "metadata": {},
   "outputs": [
    {
     "data": {
      "text/html": [
       "<div>\n",
       "<style scoped>\n",
       "    .dataframe tbody tr th:only-of-type {\n",
       "        vertical-align: middle;\n",
       "    }\n",
       "\n",
       "    .dataframe tbody tr th {\n",
       "        vertical-align: top;\n",
       "    }\n",
       "\n",
       "    .dataframe thead th {\n",
       "        text-align: right;\n",
       "    }\n",
       "</style>\n",
       "<table border=\"1\" class=\"dataframe\">\n",
       "  <thead>\n",
       "    <tr style=\"text-align: right;\">\n",
       "      <th></th>\n",
       "      <th>Description</th>\n",
       "      <th>total_sales</th>\n",
       "      <th>price</th>\n",
       "    </tr>\n",
       "  </thead>\n",
       "  <tbody>\n",
       "    <tr>\n",
       "      <th>0</th>\n",
       "      <td>WHITE HANGING HEART T-LIGHT HOLDER</td>\n",
       "      <td>89012</td>\n",
       "      <td>3.142734</td>\n",
       "    </tr>\n",
       "  </tbody>\n",
       "</table>\n",
       "</div>"
      ],
      "text/plain": [
       "                          Description  total_sales     price\n",
       "0  WHITE HANGING HEART T-LIGHT HOLDER        89012  3.142734"
      ]
     },
     "execution_count": 77,
     "metadata": {},
     "output_type": "execute_result"
    }
   ],
   "source": [
    "#As per see, White Hanging Heart T-Light Holder is the biggest description.\n",
    "#For this reason in this occasion, we would analyze the price elasticities of this description.\n",
    "\n",
    "#Select White Hanging Heart T-Light Holder\n",
    "df_white = retail_clean[retail_clean['Description']=='WHITE HANGING HEART T-LIGHT HOLDER']\n",
    "\n",
    "#use Groupby and Aggregate to group\n",
    "df_white = df_white.groupby(['Description']).agg(total_sales=('Quantity', 'sum'), price = ('Price','mean')).reset_index()\n",
    "\n",
    "#White Hanging Heart T-Light Holder data used for price elasticities\n",
    "df_white.head()"
   ]
  },
  {
   "cell_type": "code",
   "execution_count": 78,
   "id": "7ade1763",
   "metadata": {},
   "outputs": [
    {
     "name": "stdout",
     "output_type": "stream",
     "text": [
      "['WHITE HANGING HEART T-LIGHT HOLDER']\n"
     ]
    }
   ],
   "source": [
    "#to do linear elastiscity for every SKU, as there is 5425 sku, looping is doing for 1 SKU for time being so that easier to extend to few more if needed\n",
    "#make a loop for every sku with a linear elasticity\n",
    "\n",
    "keys = df_white.Description.unique()\n",
    "print(keys)"
   ]
  },
  {
   "cell_type": "code",
   "execution_count": 101,
   "id": "7c32776d",
   "metadata": {},
   "outputs": [
    {
     "name": "stderr",
     "output_type": "stream",
     "text": [
      "C:\\Users\\user\\anaconda3\\lib\\site-packages\\inventorize\\__init__.py:662: RuntimeWarning: divide by zero encountered in true_divide\n",
      "  optimum_profit=(-derv_p*cost_of_product+ intercept)/(2*-derv_p)\n",
      "C:\\Users\\user\\anaconda3\\lib\\site-packages\\inventorize\\__init__.py:663: RuntimeWarning: divide by zero encountered in true_divide\n",
      "  optimum_revenue =intercept/(2*-derv_p)\n"
     ]
    }
   ],
   "source": [
    "import pandas as pd\n",
    "keys = df_white.Description.unique()\n",
    "\n",
    "empty_data=pd.DataFrame()\n",
    "for key in keys:\n",
    "    try:\n",
    "        a=df_white[df_white.Description==key]\n",
    "        cpst=0.4*max(a['price'])\n",
    "        current_price=a['price'].mean()\n",
    "        elasticity= inv.linear_elasticity(a['price'],a['total_sales'], current_price,cost)\n",
    "        elasticty= {k:v[0] for k, v in elasticity.items()}\n",
    "        data=pd.DataFrame(elasticity,index=[0])\n",
    "        data['Description']=key\n",
    "        empty_data=pd.concat([empty_data,data],axis=0)\n",
    "    except:\n",
    "            continue\n",
    "            "
   ]
  },
  {
   "cell_type": "code",
   "execution_count": 102,
   "id": "8cf6126f",
   "metadata": {},
   "outputs": [
    {
     "data": {
      "text/html": [
       "<div>\n",
       "<style scoped>\n",
       "    .dataframe tbody tr th:only-of-type {\n",
       "        vertical-align: middle;\n",
       "    }\n",
       "\n",
       "    .dataframe tbody tr th {\n",
       "        vertical-align: top;\n",
       "    }\n",
       "\n",
       "    .dataframe thead th {\n",
       "        text-align: right;\n",
       "    }\n",
       "</style>\n",
       "<table border=\"1\" class=\"dataframe\">\n",
       "  <thead>\n",
       "    <tr style=\"text-align: right;\">\n",
       "      <th></th>\n",
       "    </tr>\n",
       "  </thead>\n",
       "  <tbody>\n",
       "  </tbody>\n",
       "</table>\n",
       "</div>"
      ],
      "text/plain": [
       "Empty DataFrame\n",
       "Columns: []\n",
       "Index: []"
      ]
     },
     "execution_count": 102,
     "metadata": {},
     "output_type": "execute_result"
    }
   ],
   "source": [
    "empty_data"
   ]
  },
  {
   "cell_type": "code",
   "execution_count": null,
   "id": "bd0a2871",
   "metadata": {},
   "outputs": [],
   "source": []
  }
 ],
 "metadata": {
  "kernelspec": {
   "display_name": "Python 3 (ipykernel)",
   "language": "python",
   "name": "python3"
  },
  "language_info": {
   "codemirror_mode": {
    "name": "ipython",
    "version": 3
   },
   "file_extension": ".py",
   "mimetype": "text/x-python",
   "name": "python",
   "nbconvert_exporter": "python",
   "pygments_lexer": "ipython3",
   "version": "3.9.7"
  }
 },
 "nbformat": 4,
 "nbformat_minor": 5
}
